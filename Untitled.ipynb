{
 "cells": [
  {
   "cell_type": "code",
   "execution_count": 66,
   "metadata": {},
   "outputs": [],
   "source": [
    "import trainer\n",
    "from models.EDSR import EDSR\n",
    "from utils.data_loader import get_loader\n",
    "import torch\n",
    "\n",
    "torch.manual_seed(0)\n",
    "\n",
    "model = EDSR()\n",
    "\n",
    "train_loader = get_loader(mode='train', batch_size=16, augment=True)"
   ]
  },
  {
   "cell_type": "code",
   "execution_count": 67,
   "metadata": {},
   "outputs": [
    {
     "name": "stderr",
     "output_type": "stream",
     "text": [
      "Kernel Initialization: 76it [00:03, 20.15it/s]\n"
     ]
    }
   ],
   "source": [
    "from tqdm import tqdm\n",
    "with tqdm(model.named_parameters(), desc=f'Kernel Initialization', position=0, leave=True) as pbar_kernel_init:\n",
    "    for n, p in pbar_kernel_init:\n",
    "        if 'conv.0.weight' in n:\n",
    "            for i in range(64):\n",
    "                for j in range(64):\n",
    "                    weight = p[i][j].clone()\n",
    "                    weight[1][1] += torch.rand(1)[0]\n",
    "                    p[i][j].data.copy_(weight)"
   ]
  },
  {
   "cell_type": "code",
   "execution_count": 68,
   "metadata": {},
   "outputs": [
    {
     "data": {
      "text/plain": [
       "tensor([[-0.0053, -0.0319, -0.0303],\n",
       "        [ 0.0003,  0.2621, -0.0264],\n",
       "        [-0.0215,  0.0341,  0.0193]], grad_fn=<CopySlices>)"
      ]
     },
     "execution_count": 68,
     "metadata": {},
     "output_type": "execute_result"
    }
   ],
   "source": [
    "weight"
   ]
  }
 ],
 "metadata": {
  "kernelspec": {
   "display_name": "torch",
   "language": "python",
   "name": "torch"
  },
  "language_info": {
   "codemirror_mode": {
    "name": "ipython",
    "version": 3
   },
   "file_extension": ".py",
   "mimetype": "text/x-python",
   "name": "python",
   "nbconvert_exporter": "python",
   "pygments_lexer": "ipython3",
   "version": "3.8.5"
  }
 },
 "nbformat": 4,
 "nbformat_minor": 2
}
